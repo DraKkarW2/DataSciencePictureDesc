{
 "cells": [
  {
   "cell_type": "code",
   "execution_count": 1,
   "metadata": {},
   "outputs": [
    {
     "name": "stdout",
     "output_type": "stream",
     "text": [
      "9997 images et photos ont été copiées avec succès dans le nouveau dataset.\n"
     ]
    }
   ],
   "source": [
    "import os\n",
    "import shutil\n",
    "import random\n",
    "\n",
    "# Fonction pour lister les fichiers dans un dossier\n",
    "def list_images_in_folder(folder_path):\n",
    "    return [f for f in os.listdir(folder_path) if os.path.isfile(os.path.join(folder_path, f))]\n",
    "\n",
    "# Chemins du premier dataset (data_set_livrable_1)\n",
    "dataset_dir_1 = r'C:\\Users\\Utilisateur\\Documents\\Github\\DataSciencePictureDesc\\DataSets\\data_set_livrable_1'\n",
    "image_dir_1 = os.path.join(dataset_dir_1, 'Image')\n",
    "photo_dir_1 = os.path.join(dataset_dir_1, 'Photo')\n",
    "\n",
    "# Chemins du second dataset (random_dataset)\n",
    "random_dataset_dir = r'C:\\Users\\Utilisateur\\Documents\\Github\\DataSciencePictureDesc\\DataSets\\Rebanced_DataSets\\Random_DataSets'\n",
    "image_dir_2 = os.path.join(random_dataset_dir, 'Image')\n",
    "photo_dir_2 = os.path.join(random_dataset_dir, 'Photo')\n",
    "\n",
    "# Vérification des chemins avant de continuer\n",
    "if not os.path.exists(photo_dir_1):\n",
    "    print(f\"Erreur : Le dossier 'Photo' du premier dataset n'existe pas : {photo_dir_1}\")\n",
    "    exit()\n",
    "\n",
    "if not os.path.exists(image_dir_1):\n",
    "    print(f\"Erreur : Le dossier 'Image' du premier dataset n'existe pas : {image_dir_1}\")\n",
    "    exit()\n",
    "\n",
    "# Créer les sous-dossiers du nouveau dataset s'ils n'existent pas\n",
    "os.makedirs(image_dir_2, exist_ok=True)\n",
    "os.makedirs(photo_dir_2, exist_ok=True)\n",
    "\n",
    "# Sous-dossiers d'images dans le premier dataset\n",
    "subfolders = ['Painting', 'Schematics', 'Sketch', 'Text']\n",
    "\n",
    "# Étape 1 : Copier toutes les photos du premier dataset vers le second\n",
    "photos = list_images_in_folder(photo_dir_1)\n",
    "for photo in photos:\n",
    "    source_photo = os.path.join(photo_dir_1, photo)\n",
    "    destination_photo = os.path.join(photo_dir_2, photo)\n",
    "    shutil.copy(source_photo, destination_photo)  # Copier sans supprimer\n",
    "\n",
    "# Nombre de photos copiées\n",
    "num_photos = len(photos)\n",
    "\n",
    "# Étape 2 : Sélectionner aléatoirement autant d'images qu'il y a de photos\n",
    "all_images = []\n",
    "for subfolder in subfolders:\n",
    "    source_folder = os.path.join(image_dir_1, subfolder)\n",
    "    images = list_images_in_folder(source_folder)\n",
    "    all_images.extend([(source_folder, image) for image in images])\n",
    "\n",
    "# Sélectionner aléatoirement le même nombre d'images que de photos\n",
    "if num_photos <= len(all_images):\n",
    "    selected_images = random.sample(all_images, num_photos)\n",
    "\n",
    "    # Copier les images sélectionnées dans le second dataset\n",
    "    for source_folder, image in selected_images:\n",
    "        destination_folder = os.path.join(image_dir_2, os.path.basename(source_folder))  # Créer le même sous-dossier\n",
    "        os.makedirs(destination_folder, exist_ok=True)\n",
    "        source_image = os.path.join(source_folder, image)\n",
    "        destination_image = os.path.join(destination_folder, image)\n",
    "        shutil.copy(source_image, destination_image)  # Copier sans supprimer\n",
    "\n",
    "    print(f\"{num_photos} images et photos ont été copiées avec succès dans le nouveau dataset.\")\n",
    "else:\n",
    "    print(\"Il n'y a pas assez d'images dans le premier dataset pour correspondre au nombre de photos.\")\n"
   ]
  },
  {
   "cell_type": "code",
   "execution_count": 4,
   "metadata": {},
   "outputs": [
    {
     "name": "stdout",
     "output_type": "stream",
     "text": [
      "Nombre de photos dans random_dataset : 9997\n",
      "Nombre d'images (total) dans random_dataset : 9997\n",
      " - Painting : 814\n",
      " - Schematics : 4306\n",
      " - Sketch : 601\n",
      " - Text : 4276\n"
     ]
    }
   ],
   "source": [
    "import os\n",
    "\n",
    "# Fonction pour compter les fichiers dans un dossier\n",
    "def count_files_in_folder(folder_path):\n",
    "    if os.path.exists(folder_path):\n",
    "        return len([f for f in os.listdir(folder_path) if os.path.isfile(os.path.join(folder_path, f))])\n",
    "    else:\n",
    "        return 0\n",
    "\n",
    "# Chemins du dataset random_dataset\n",
    "random_dataset_dir = r'C:\\Users\\Utilisateur\\Documents\\Github\\DataSciencePictureDesc\\DataSets\\Rebanced_DataSets\\Random_DataSets'\n",
    "image_dir_2 = os.path.join(random_dataset_dir, 'Image')\n",
    "photo_dir_2 = os.path.join(random_dataset_dir, 'Photo')\n",
    "\n",
    "# Sous-dossiers d'images dans le dataset random_dataset\n",
    "subfolders = ['Painting', 'Schematics', 'Sketch', 'Text']\n",
    "\n",
    "# Compter les photos dans le dossier Photo\n",
    "num_photos = count_files_in_folder(photo_dir_2)\n",
    "\n",
    "# Compter les images dans les sous-dossiers (Painting, Schematics, Sketch, Text)\n",
    "num_painting = count_files_in_folder(os.path.join(image_dir_2, 'Painting'))\n",
    "num_schematics = count_files_in_folder(os.path.join(image_dir_2, 'Schematics'))\n",
    "num_sketch = count_files_in_folder(os.path.join(image_dir_2, 'Sketch'))\n",
    "num_text = count_files_in_folder(os.path.join(image_dir_2, 'Text'))\n",
    "\n",
    "# Total d'images\n",
    "total_images = num_painting + num_schematics + num_sketch + num_text\n",
    "\n",
    "# Afficher les résultats\n",
    "print(f\"Nombre de photos dans random_dataset : {num_photos}\")\n",
    "print(f\"Nombre d'images (total) dans random_dataset : {total_images}\")\n",
    "print(f\" - Painting : {num_painting}\")\n",
    "print(f\" - Schematics : {num_schematics}\")\n",
    "print(f\" - Sketch : {num_sketch}\")\n",
    "print(f\" - Text : {num_text}\")\n"
   ]
  }
 ],
 "metadata": {
  "kernelspec": {
   "display_name": "Python 3",
   "language": "python",
   "name": "python3"
  },
  "language_info": {
   "codemirror_mode": {
    "name": "ipython",
    "version": 3
   },
   "file_extension": ".py",
   "mimetype": "text/x-python",
   "name": "python",
   "nbconvert_exporter": "python",
   "pygments_lexer": "ipython3",
   "version": "3.12.1"
  }
 },
 "nbformat": 4,
 "nbformat_minor": 2
}
