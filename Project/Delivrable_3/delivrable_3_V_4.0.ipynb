{
 "cells": [
  {
   "cell_type": "markdown",
   "metadata": {},
   "source": [
    "# Delivrable 3 Captionning"
   ]
  },
  {
   "cell_type": "markdown",
   "metadata": {},
   "source": [
    "# Sommaire\n",
    "\n",
    "1. [Introduction](#1-introduction)\n",
    "   - 1.1. [Objectif du projet](#11-objectif-du-projet)\n",
    "   - 1.2. [Problématique](#12-problématique)\n",
    "\n",
    "2. [Exploration du Dataset](#2-exploration-du-dataset)\n",
    "   - 2.1. [Chemins du dataset](#21-chemins-du-dataset)\n",
    "   - 2.2. [Exploration des résolutions d'images](#22-exploration-des-resolutions-dimages)\n",
    "   - 2.3. [Répartition des annotations par catégorie](#23-repartition-des-annotations-par-categorie)\n",
    "   - 2.4. [Répartition des annotations par image](#24-repartition-des-annotations-par-image)\n",
    "\n",
    "3. [Préparation des légendes](#3-preparation-des-legendes)\n",
    "    - 3.1. [Séparation des données en entraînement et validation](#31-separation-des-donnees-en-entrainement-et-validation)\n",
    "4. [Architecture de Captioning d'Images](#4-architecture-de-captioning)\n",
    "   - 4.1. [Merging Architecture](#41-injecting-architecture)\n",
    "       - 4.1.1. [Choix du modèle CNN pour l'extraction de caractéristiques](#411-choix-du-modele-cnn-pour-lextraction-de-caracteristiques)\n",
    "       - 4.1.2. [Transfert Learning](#412-transfert-learning)\n",
    "           - 4.1.2.A. [Feature Extraction (Extraction de caractéristiques)](#412a-feature-extraction-extraction-de-caracteristiques)\n",
    "           - 4.1.2.B. [Fine Tuning (Affinage)](#412b-fine-tuning-affinage)\n",
    "           - 4.1.2.C. [Full Fine Tuning](#412c-full-fine-tuning)\n",
    "       - 4.1.3. [Construction du modèle RNN](#413-construction-du-modele-rnn)\n",
    "           - 4.1.3.A. [Construction du modèle LSTM](#413a-construction-du-modele-lstm)\n",
    "           - 4.1.3.B. [Construction du modèle GRU](#413b-construction-du-modele-gru)\n",
    "       - 4.1.4. [Entraînement des modèles](#414-entrainement-des-modeles)\n",
    "       - 4.1.5. [Évaluation et tests](#415-evaluation-et-tests)\n",
    "       - 4.1.6. [Tableau comparatif Injecting Architecture](#416-tableau-comparatif-injecting-architecture)\n",
    "\n",
    "   - 4.2. [Injecting Architecture](#42-merging-architecture)\n",
    "       - 4.2.1. [Choix du modèle CNN](#421-choix-du-modele-cnn)\n",
    "       - 4.2.2. [Transfert Learning](#422-transfert-learning)\n",
    "           - 4.2.2.A. [Feature Extraction](#422a-feature-extraction)\n",
    "           - 4.2.2.B. [Fine Tuning](#422b-fine-tuning)\n",
    "           - 4.2.2.C. [Full Fine Tuning](#422c-full-fine-tuning)\n",
    "       - 4.2.3. [Construction du modèle RNN](#423-construction-du-modele-rnn)\n",
    "           - 4.2.3.A. [Construction du modèle LSTM](#423a-construction-du-modele-lstm)\n",
    "           - 4.2.3.B. [Construction du modèle GRU](#423b-construction-du-modele-gru)\n",
    "       - 4.2.4. [Entraînement des modèles](#424-entrainement-des-modeles)\n",
    "       - 4.2.5. [Évaluation et tests](#425-evaluation-et-tests)\n",
    "       - 4.2.6. [Tableau comparatif Merging Architecture](#426-tableau-comparatif-merging-architecture)\n",
    "\n",
    "5. [Conclusion](#5-conclusion)\n",
    "   - 5.1. [Tableau comparatif final](#51-tableau-comparatif-final)\n"
   ]
  },
  {
   "cell_type": "markdown",
   "metadata": {},
   "source": [
    "# 1-Introduction\n",
    "\n",
    "La détection d'objets est un problème fondamentalement important à notre époque, car elle a des applications variées dans des domaines tels que la surveillance, les véhicules autonomes, et l'analyse d'images médicales. Ce problème se divise généralement en deux tâches principales :\n",
    "- **Classification** : Identifier les objets présents dans une image en fonction de leurs caractéristiques visuelles (features).\n",
    "- **Localisation d'objets** : Détecter la position précise de ces objets à l'aide de boîtes de délimitation ou de masques de segmentation.\n",
    "\n",
    "Le principe de base est de retrouver, à partir d'une image, plusieurs objets afin de créer une description textuelle qui représente fidèlement le contenu visuel de l'image. Cette tâche est au cœur des défis actuels en vision par ordinateur, et plusieurs jeux de données ont été créés pour évaluer les performances des modèles dans ce domaine.\n",
    "\n",
    "Parmi les plus utilisés, nous avons :\n",
    "- **PASCAL-VOC** et\n",
    "- **MS COCO**\n",
    "\n",
    "**PASCAL VOC** est un dataset plus ancien et plus petit comparé à MS COCO. Conçu principalement pour des problèmes de détection et de segmentation d'objets, il offre un ensemble relativement réduit de classes, ce qui le rend utile pour des recherches académiques et pour tester rapidement des algorithmes sur un dataset de taille modeste.\n",
    "\n",
    "Cependant, pour notre projet, nous allons utiliser le dataset **MS COCO** (Common Objects in Context). MS COCO est non seulement plus vaste, mais il introduit également des annotations plus complexes, telles que la segmentation d'objets par polygone et la génération de légendes d'images (captions). Pour exploiter pleinement la richesse de ce dataset, nous utiliserons des techniques de **transfert learning**. Le transfert learning est une approche couramment utilisée dans les projets de vision par ordinateur. Elle permet de tirer parti des connaissances qu'un modèle a déjà acquises sur un large ensemble de données, et d'améliorer ainsi les performances sur de nouveaux datasets avec moins de données et un temps d'entraînement réduit.\n",
    "\n",
    "## 1.1-Objectif du projet\n",
    "\n",
    "Dans ce projet, notre objectif est de concevoir un modèle capable de **générer automatiquement des légendes descriptives** pour des images en se basant sur le dataset **MS COCO**. Pour ce faire, nous allons exploiter une architecture de réseau de neurones à deux parties :\n",
    "- **Un réseau CNN (Convolutional Neural Network)**, qui extrait les caractéristiques visuelles des images.\n",
    "- **Un réseau RNN (Recurrent Neural Network)**, qui prend en entrée ces caractéristiques visuelles et génère des descriptions textuelles séquentielles (légendes) pour les images.\n",
    "\n",
    "Le **réseau CNN** est responsable de l'encodage des images, en les convertissant en une représentation compacte. Cette représentation est ensuite utilisée par le **réseau RNN** pour produire des légendes descriptives en langage naturel. Le CNN utilisé dans ce projet sera un **modèle pré-entraîné**, tel que **ResNet**, **VGG**, ou **Inception**, initialement entraîné sur MS COCO pour la reconnaissance d'objets. Ce modèle sera ensuite ajusté pour répondre aux besoins de la génération de légendes.\n",
    "\n",
    "## 1.2-Problématique\n",
    "\n",
    "Le défi principal de ce projet est de développer un modèle capable de générer des **descriptions cohérentes et précises** pour des images complexes, où plusieurs objets interagissent. Cela inclut non seulement la détection des objets, mais aussi la compréhension du contexte et des relations entre ces objets, tout en produisant une phrase en langage naturel qui capture cette information. Il est également essentiel de pouvoir **évaluer automatiquement** la qualité des légendes générées à l'aide de métriques comme le **BLEU**.\n"
   ]
  },
  {
   "cell_type": "markdown",
   "metadata": {},
   "source": [
    "# 2-Exploration du dataset"
   ]
  },
  {
   "cell_type": "code",
   "execution_count": 75,
   "metadata": {},
   "outputs": [],
   "source": [
    "from pycocotools.coco import COCO\n",
    "import tensorflow as tf\n",
    "import matplotlib.pyplot as plt\n",
    "from sklearn.model_selection import train_test_split\n",
    "import collections\n",
    "import numpy as np\n",
    "import os\n",
    "import time\n",
    "import json\n",
    "from tqdm import tqdm\n",
    "from PIL import Image"
   ]
  },
  {
   "cell_type": "markdown",
   "metadata": {},
   "source": [
    "## 2.1-Chemins du dataset"
   ]
  },
  {
   "cell_type": "code",
   "execution_count": 137,
   "metadata": {},
   "outputs": [
    {
     "name": "stdout",
     "output_type": "stream",
     "text": [
      "Dossier des images d'entraînement: c:\\Users\\steve\\Documents\\GitHub\\DataSciencePictureDesc\\DataSets\\Dataset_delivrable_3\\train2014/\n",
      "Fichier des annotations d'entraînement: c:\\Users\\steve\\Documents\\GitHub\\DataSciencePictureDesc\\DataSets\\Dataset_delivrable_3\\annotations/captions_train2014.json\n"
     ]
    }
   ],
   "source": [
    "# Définir le répertoire de base\n",
    "base_dir = os.getcwd()\n",
    "relative_path = r\"../../DataSets/Dataset_delivrable_3\"\n",
    "dataset_dir = os.path.normpath(os.path.join(base_dir, relative_path))\n",
    "\n",
    "# Chemin du fichier d'annotations\n",
    "annotation_file = os.path.join(dataset_dir, 'annotations/captions_train2014.json')\n",
    "\n",
    "# Chemin du dossier contenant les images à annoter\n",
    "image_folder = os.path.join(dataset_dir, 'train2014/')\n",
    "PATH = image_folder\n",
    "\n",
    "# Affichage des chemins\n",
    "print(\"Dossier des images d'entraînement:\", image_folder)\n",
    "print(\"Fichier des annotations d'entraînement:\", annotation_file)\n"
   ]
  },
  {
   "cell_type": "markdown",
   "metadata": {},
   "source": [
    "## 2.2 Lecture du fichier d'annotation et prétraitement des données"
   ]
  },
  {
   "cell_type": "code",
   "execution_count": 138,
   "metadata": {},
   "outputs": [
    {
     "name": "stdout",
     "output_type": "stream",
     "text": [
      "Nombre d'images avec annotations: 82783\n"
     ]
    }
   ],
   "source": [
    "# Lecture du fichier d'annotation\n",
    "with open(annotation_file, 'r') as f:\n",
    "    annotations = json.load(f)\n",
    "\n",
    "# --- Lecture des Annotations ---\n",
    "image_path_to_caption = collections.defaultdict(list)\n",
    "for val in annotations['annotations']:\n",
    "    caption = val['caption']\n",
    "    image_path = os.path.join(PATH, f\"COCO_train2014_{val['image_id']:012d}.jpg\")\n",
    "    image_path_to_caption[image_path].append(caption)\n",
    "\n",
    "# Vérifiez le contenu de image_path_to_caption\n",
    "print(f\"Nombre d'images avec annotations: {len(image_path_to_caption)}\")\n"
   ]
  },
  {
   "cell_type": "code",
   "execution_count": 139,
   "metadata": {},
   "outputs": [
    {
     "name": "stdout",
     "output_type": "stream",
     "text": [
      "loading annotations into memory...\n",
      "Done (t=0.55s)\n",
      "creating index...\n",
      "index created!\n"
     ]
    }
   ],
   "source": [
    "coco = COCO(annotation_file)"
   ]
  },
  {
   "cell_type": "code",
   "execution_count": 85,
   "metadata": {},
   "outputs": [
    {
     "name": "stdout",
     "output_type": "stream",
     "text": [
      "Nombre total d'images : 6000\n",
      "Longueur moyenne des légendes : 10.46 mots\n"
     ]
    }
   ],
   "source": [
    "caption_lengths = [len(cap.split()) for captions in image_path_to_caption.values() for cap in captions]\n",
    "mean_caption_length = sum(caption_lengths) / len(caption_lengths)\n",
    "\n",
    "print(f\"Nombre total d'images : {len(train_image_paths)}\")\n",
    "print(f\"Longueur moyenne des légendes : {mean_caption_length:.2f} mots\")"
   ]
  },
  {
   "cell_type": "markdown",
   "metadata": {},
   "source": [
    "il y a donc en moyenne 10 mot pour decrire une image"
   ]
  },
  {
   "cell_type": "code",
   "execution_count": 140,
   "metadata": {},
   "outputs": [
    {
     "name": "stdout",
     "output_type": "stream",
     "text": [
      "Légendes par image - Max : 7, Min : 5, Moyenne : 5.0023917954169335\n"
     ]
    }
   ],
   "source": [
    "# Calculer le nombre de légendes par image\n",
    "image_ids = coco.getImgIds()\n",
    "captions_per_image = [len(coco.getAnnIds(imgIds=[img_id])) for img_id in image_ids]\n",
    "\n",
    "# Statistiques\n",
    "max_captions = max(captions_per_image)\n",
    "min_captions = min(captions_per_image)\n",
    "mean_captions = sum(captions_per_image) / len(captions_per_image)\n",
    "\n",
    "print(f\"Légendes par image - Max : {max_captions}, Min : {min_captions}, Moyenne : {mean_captions}\")\n"
   ]
  },
  {
   "cell_type": "markdown",
   "metadata": {},
   "source": [
    "Ici, nous avons le nombre de légendes associées à chaque image."
   ]
  },
  {
   "cell_type": "markdown",
   "metadata": {},
   "source": [
    "## 2.2-Exploration de la répartition des résolution par image"
   ]
  },
  {
   "cell_type": "code",
   "execution_count": 141,
   "metadata": {},
   "outputs": [
    {
     "data": {
      "image/png": "[encoded data removed]",
      "text/plain": [
       "<Figure size 1200x600 with 1 Axes>"
      ]
     },
     "metadata": {},
     "output_type": "display_data"
    }
   ],
   "source": [
    "from collections import Counter\n",
    "import matplotlib.pyplot as plt\n",
    "\n",
    "# Charger toutes les images avec l'objet COCO\n",
    "img_ids = coco.getImgIds()\n",
    "img_data = coco.loadImgs(img_ids)\n",
    "\n",
    "# Extraire les largeurs et hauteurs des images\n",
    "heights = [img['height'] for img in img_data]\n",
    "widths = [img['width'] for img in img_data]\n",
    "\n",
    "# Créer une liste de tuples (largeur, hauteur)\n",
    "dimensions = [(widths[i], heights[i]) for i in range(len(widths))]\n",
    "\n",
    "# Compter le nombre d'images pour chaque résolution unique\n",
    "dimension_counts = Counter(dimensions)\n",
    "\n",
    "# Filtrer les dimensions les plus fréquentes (au moins 100 occurrences)\n",
    "common_dimensions = {dim: count for dim, count in dimension_counts.items() if count >= 100}\n",
    "\n",
    "# Extraire les résolutions et leur fréquence\n",
    "resolutions, counts = zip(*common_dimensions.items())\n",
    "\n",
    "# Générer des labels pour les résolutions sous la forme \"largeur x hauteur\"\n",
    "resolution_labels = [f\"{width}x{height}\" for width, height in resolutions]\n",
    "\n",
    "# Visualiser les résolutions les plus fréquentes\n",
    "plt.figure(figsize=(12, 6))\n",
    "plt.bar(resolution_labels, counts, color='lightblue', edgecolor='black')\n",
    "\n",
    "# Ajouter un titre et des labels d'axes\n",
    "plt.title('Distribution des résolutions des images les plus fréquentes (largeur x hauteur)')\n",
    "plt.xlabel('Résolution (largeur x hauteur)')\n",
    "plt.ylabel('Nombre d\\'images')\n",
    "\n",
    "# Rotation des labels pour une meilleure lisibilité\n",
    "plt.xticks(rotation=90)\n",
    "\n",
    "# Afficher le graphique avec ajustement\n",
    "plt.tight_layout()\n",
    "plt.show()\n"
   ]
  },
  {
   "cell_type": "markdown",
   "metadata": {},
   "source": [
    "La majorité des images du dataset MS COCO ont des résolutions relativement homogènes, avec une forte concentration autour de résolutions comme 640x480 et 480x640. Cela signifie que nous pouvons envisager de redimensionner toutes les images à une résolution commune (comme 640x480), sans perdre trop de détails dans la majorité des images. "
   ]
  },
  {
   "cell_type": "markdown",
   "metadata": {},
   "source": [
    "## 2.3-Exploration de la répartition des annotation par catégorie"
   ]
  },
  {
   "cell_type": "code",
   "execution_count": 142,
   "metadata": {},
   "outputs": [
    {
     "name": "stdout",
     "output_type": "stream",
     "text": [
      "loading annotations into memory...\n",
      "Done (t=0.31s)\n",
      "creating index...\n",
      "index created!\n"
     ]
    },
    {
     "data": {
      "image/png": "[encoded data removed]",
      "text/plain": [
       "<Figure size 1200x600 with 1 Axes>"
      ]
     },
     "metadata": {},
     "output_type": "display_data"
    }
   ],
   "source": [
    "from collections import Counter\n",
    "import matplotlib.pyplot as plt\n",
    "from pycocotools.coco import COCO\n",
    "\n",
    "# Initialiser l'objet COCO avec le fichier d'annotations des légendes\n",
    "annFile = os.path.join(dataset_dir, 'annotations/captions_train2014.json')\n",
    "coco = COCO(annFile)\n",
    "\n",
    "# Récupérer les IDs des images et charger les métadonnées\n",
    "img_ids = coco.getImgIds()\n",
    "img_data = coco.loadImgs(img_ids)\n",
    "\n",
    "# Extraire les largeurs et hauteurs des images\n",
    "heights = [img['height'] for img in img_data]\n",
    "widths = [img['width'] for img in img_data]\n",
    "\n",
    "# Créer une liste de tuples (largeur, hauteur)\n",
    "dimensions = [(widths[i], heights[i]) for i in range(len(widths))]\n",
    "\n",
    "# Compter le nombre d'images pour chaque résolution unique\n",
    "dimension_counts = Counter(dimensions)\n",
    "\n",
    "# Filtrer les dimensions les plus fréquentes (au moins 100 occurrences)\n",
    "common_dimensions = {dim: count for dim, count in dimension_counts.items() if count >= 100}\n",
    "\n",
    "# Extraire les résolutions et leur fréquence\n",
    "resolutions, counts = zip(*common_dimensions.items())\n",
    "\n",
    "# Générer des labels pour les résolutions sous la forme \"largeur x hauteur\"\n",
    "resolution_labels = [f\"{width}x{height}\" for width, height in resolutions]\n",
    "\n",
    "# Visualiser les résolutions les plus fréquentes\n",
    "plt.figure(figsize=(12, 6))\n",
    "plt.bar(resolution_labels, counts, color='lightblue', edgecolor='black')\n",
    "\n",
    "# Ajouter un titre et des labels d'axes\n",
    "plt.title('Distribution des résolutions des images les plus fréquentes (largeur x hauteur)')\n",
    "plt.xlabel('Résolution (largeur x hauteur)')\n",
    "plt.ylabel('Nombre d\\'images')\n",
    "\n",
    "# Rotation des labels pour une meilleure lisibilité\n",
    "plt.xticks(rotation=90)\n",
    "\n",
    "# Afficher le graphique avec ajustement\n",
    "plt.tight_layout()\n",
    "plt.show()\n"
   ]
  },
  {
   "cell_type": "markdown",
   "metadata": {},
   "source": [
    "On observe qu'il y a un très grand nombre d'annotations pour la catégorie 'person', ce qui indique un déséquilibre entre les classes. Ce déséquilibre peut nuire à l'entraînement du modèle, car il risque de favoriser les catégories sur-représentées, comme 'person', au détriment des autres catégories moins fréquentes."
   ]
  },
  {
   "cell_type": "markdown",
   "metadata": {},
   "source": [
    "## 2.4-Exploration de la répartition des annotations par image"
   ]
  },
  {
   "cell_type": "code",
   "execution_count": 143,
   "metadata": {},
   "outputs": [
    {
     "data": {
      "image/png": "[encoded data removed]",
      "text/plain": [
       "<Figure size 800x500 with 1 Axes>"
      ]
     },
     "metadata": {},
     "output_type": "display_data"
    },
    {
     "name": "stdout",
     "output_type": "stream",
     "text": [
      "Nombre moyen d'objets par image : 5.00\n",
      "Nombre maximal d'objets dans une image : 7\n"
     ]
    }
   ],
   "source": [
    "# Calculer le nombre d'annotations pour chaque image\n",
    "image_ids = coco.getImgIds()  # Récupérer tous les ID d'images\n",
    "annotations_per_image = [len(coco.getAnnIds(imgIds=[img_id])) for img_id in image_ids]\n",
    "\n",
    "# Visualisation de la répartition du nombre d'annotations par image\n",
    "plt.figure(figsize=(8, 5))\n",
    "plt.hist(annotations_per_image, bins=20, color='lightcoral', edgecolor='black')\n",
    "\n",
    "# Ajouter un titre et des labels d'axes\n",
    "plt.title('Répartition du nombre d\\'annotations par image')\n",
    "plt.xlabel('Nombre d\\'objets par image')\n",
    "plt.ylabel('Nombre d\\'images')\n",
    "\n",
    "# Afficher le graphique\n",
    "plt.show()\n",
    "\n",
    "# Afficher des statistiques descriptives sur le nombre d'annotations\n",
    "print(f\"Nombre moyen d'objets par image : {sum(annotations_per_image) / len(annotations_per_image):.2f}\")\n",
    "print(f\"Nombre maximal d'objets dans une image : {max(annotations_per_image)}\")\n"
   ]
  },
  {
   "cell_type": "markdown",
   "metadata": {},
   "source": [
    "- En moyenne, chaque image contient environ 7.31 objets. Cela signifie que les images dans ce dataset sont relativement complexes, avec plusieurs objets à détecter dans chaque image.\n",
    "\n",
    "- Une grande proportion des images contient moins de 10 objets. Cela peut être plus facile à traiter pour des modèles de détection d'objets, mais cela signifie également qu'il existe une minorité d'images qui sont beaucoup plus complexes.\n",
    "\n",
    "- Le nombre maximal d'objets annotés dans une image est 93, ce qui montre que certaines images du dataset sont extrêmement complexes. Ces images sont rares mais peuvent être des cas difficiles pour un modèle de détection d'objets."
   ]
  },
  {
   "cell_type": "markdown",
   "metadata": {},
   "source": [
    "# 3-Préparation-des-légendes\n",
    "\n",
    "Avant d'utiliser les méthodes de transfert learning pour extraire les caractéristiques des images, nous devons préparer les légendes associées. Cela inclut la tokenisation des légendes et leur transformation en séquences numériques, qui seront utilisées pour entraîner le modèle LSTM."
   ]
  },
  {
   "cell_type": "markdown",
   "metadata": {},
   "source": [
    "## 3.1 Reduction du data set\n"
   ]
  },
  {
   "cell_type": "code",
   "execution_count": 144,
   "metadata": {},
   "outputs": [
    {
     "name": "stdout",
     "output_type": "stream",
     "text": [
      "Nombre d'images sélectionnées pour l'entraînement : 2000\n"
     ]
    }
   ],
   "source": [
    "train_image_paths = list(image_path_to_caption.keys())[:5000]\n",
    "print(f\"Nombre d'images sélectionnées pour l'entraînement : {len(train_image_paths)}\")"
   ]
  },
  {
   "cell_type": "code",
   "execution_count": 145,
   "metadata": {},
   "outputs": [],
   "source": [
    "# --- Collecte des légendes et des images associées ---\n",
    "train_captions = []\n",
    "img_name_vector = []\n",
    "\n",
    "for image_path in train_image_paths:\n",
    "    caption_list = image_path_to_caption[image_path]\n",
    "    train_captions.extend(caption_list)\n",
    "    img_name_vector.extend([image_path] * len(caption_list))\n",
    "\n",
    "# Ajouter des tokens de début et de fin aux captions\n",
    "train_captions = ['start ' + caption + ' end' for caption in train_captions]\n"
   ]
  },
  {
   "cell_type": "markdown",
   "metadata": {},
   "source": [
    "## 3.2 Tokenisation des légendes"
   ]
  },
  {
   "cell_type": "code",
   "execution_count": 146,
   "metadata": {},
   "outputs": [
    {
     "name": "stdout",
     "output_type": "stream",
     "text": [
      "Longueur maximale des séquences: 33\n"
     ]
    }
   ],
   "source": [
    "# --- Tokenization des légendes ---\n",
    "top_k = 5000  # Limite le vocabulaire à 5000 mots les plus fréquents\n",
    "custom_filters = '!\"#$%&()*+,-./:;=?@[\\]^_`{|}~\\t\\n'\n",
    "tokenizer = tf.keras.preprocessing.text.Tokenizer(num_words=top_k, oov_token=\"<unk>\", filters=custom_filters)\n",
    "tokenizer.fit_on_texts(train_captions)\n",
    "\n",
    "# Convertir les légendes en séquences d'entiers et les padder\n",
    "train_seqs = tokenizer.texts_to_sequences(train_captions)\n",
    "cap_vector = tf.keras.preprocessing.sequence.pad_sequences(train_seqs, padding='post')\n",
    "\n",
    "# Calcul de la longueur maximale des séquences\n",
    "def calc_max_length(sequences):\n",
    "    return max(len(seq) for seq in sequences)\n",
    "\n",
    "max_length = calc_max_length(train_seqs)\n",
    "print(f\"Longueur maximale des séquences: {max_length}\")\n"
   ]
  },
  {
   "cell_type": "code",
   "execution_count": 147,
   "metadata": {},
   "outputs": [
    {
     "name": "stdout",
     "output_type": "stream",
     "text": [
      "Nombre d'échantillons d'entraînement : 8004\n",
      "Nombre d'échantillons de validation : 2001\n"
     ]
    }
   ],
   "source": [
    "# --- Division des données en entraînement et validation ---\n",
    "img_name_train, img_name_val, cap_train, cap_val = train_test_split(\n",
    "    img_name_vector, cap_vector, test_size=0.2, random_state=42)\n",
    "\n",
    "print(f\"Nombre d'échantillons d'entraînement : {len(img_name_train)}\")\n",
    "print(f\"Nombre d'échantillons de validation : {len(img_name_val)}\")\n"
   ]
  },
  {
   "cell_type": "markdown",
   "metadata": {},
   "source": [
    "# 4-Architecture de Captioning\n",
    "\n",
    "Il existe plusieurs architectures pour générer des légendes à partir d'images. Nous nous concentrerons sur deux approches principales :\n",
    "\n",
    "- Injecting Architecture\n",
    "- Merging Architecture"
   ]
  },
  {
   "cell_type": "markdown",
   "metadata": {},
   "source": [
    "## 4.1-Merging Architecture\n",
    "\n",
    "Dans cette architecture, le modèle CNN (pré-entraîné) extrait des caractéristiques visuelles des images, qui sont ensuite injectées dans un RNN (par exemple, LSTM) pour générer les légendes\n",
    "\n",
    "![image.png](https://miro.medium.com/v2/resize:fit:750/format:webp/1*cDqencLttz0zkWc__4CfFQ.png)"
   ]
  },
  {
   "cell_type": "markdown",
   "metadata": {},
   "source": [
    "### 4.1.1-Choix du modèle CNN pour extraction de caractéristiques :\n",
    "\n",
    "| **Modèle**         | **Taille des Entrées** | **Nombre de Paramètres** | **Profondeur** | **Taille du Modèle** | **Performance (ImageNet)** | **Avantages**                          | **Inconvénients**                        |\n",
    "|--------------------|------------------------|--------------------------|----------------|----------------------|----------------------------|----------------------------------------|------------------------------------------|\n",
    "| **InceptionV3**    | 299x299                | ~23.8 millions            | 48 couches     | ~92 MB               | Top-1: 77.9%                | - Bonne efficacité pour des tâches complexes<br>- Relativement léger | - Taille d'entrée spécifique (299x299)<br>- Plus complexe que ResNet pour certains cas |\n",
    "| **ResNet50**       | 224x224                | ~25.6 millions            | 50 couches     | ~98 MB               | Top-1: 76.2%                | - Très populaire pour le transfert learning<br>- Facile à utiliser<br>- Bon équilibre entre profondeur et performance | - Peut être trop profond pour des tâches simples |\n",
    "| **VGG16**          | 224x224                | ~138 millions             | 16 couches     | ~528 MB              | Top-1: 71.5%                | - Facile à comprendre et à implémenter<br>- Très utilisé dans les benchmarks | - Très grand nombre de paramètres (lent et gourmand en mémoire) |\n",
    "| **EfficientNet-B0**| 224x224                | ~5.3 millions             | 82 couches     | ~29 MB               | Top-1: 77.1%                | - Très efficace en termes de taille de modèle et de calcul<br>- Bon compromis entre performance et légèreté | - Moins utilisé que ResNet ou Inception (moins de ressources disponibles) |\n",
    "| **MobileNetV2**    | 224x224                | ~3.5 millions             | 53 couches     | ~14 MB               | Top-1: 71.8%                | - Modèle très léger<br>- Idéal pour des applications mobiles ou embarquées | - Performances inférieures aux autres modèles pour les tâches complexes |\n",
    "| **Xception**       | 299x299                | ~22.9 millions            | 71 couches     | ~88 MB               | Top-1: 79.0%                | - Basé sur Inception, mais plus efficace pour certaines tâches<br>- Très performant | - Moins utilisé et documenté que ResNet ou Inception |\n",
    "| **DenseNet121**    | 224x224                | ~8 millions               | 121 couches    | ~33 MB               | Top-1: 74.9%                | - Réseau très compact<br>- Moins de paramètres pour de bonnes performances | - Complexité due à la densité des connexions (plus lent à entraîner) |\n"
   ]
  },
  {
   "cell_type": "markdown",
   "metadata": {},
   "source": [
    "\n",
    "Le transfert learning est une technique qui consiste à réutiliser un modèle pré-entraîné sur un large dataset (comme ImageNet) pour une nouvelle tâche spécifique. Cela permet d’accélérer le processus d’apprentissage et d’améliorer les performances, surtout lorsque l’on dispose de moins de données pour entraîner un modèle de zéro. Voici les principales approches du transfert learning :"
   ]
  },
  {
   "cell_type": "markdown",
   "metadata": {},
   "source": [
    "### 4.1.2-Transfert learning\n",
    "\n",
    "Le transfert learning est une technique qui consiste à réutiliser un modèle pré-entraîné sur un large dataset (comme ImageNet) pour une nouvelle tâche spécifique. Cela permet d’accélérer le processus d’apprentissage et d’améliorer les performances, surtout lorsque l’on dispose de moins de données pour entraîner un modèle de zéro. Voici les principales approches du transfert learning :"
   ]
  },
  {
   "cell_type": "markdown",
   "metadata": {},
   "source": [
    "| **Technique**                 | **Description**                                                                                   | **Quand l'utiliser ?**                                                                 | **Avantages**                                                     | **Inconvénients**                                                       |\n",
    "|-------------------------------|---------------------------------------------------------------------------------------------------|----------------------------------------------------------------------------------------|-------------------------------------------------------------------|--------------------------------------------------------------------------|\n",
    "| **Feature Extraction**         | Utiliser un modèle pré-entraîné pour extraire des **caractéristiques fixes** sans ré-entraîner le modèle. | Lorsque tu veux utiliser un modèle pré-entraîné sans le ré-entraîner sur ton dataset.   | - Rapide<br>- Nécessite peu de données.                                 | - Caractéristiques pas toujours parfaitement adaptées à ton dataset si celui-ci est très différent du dataset d'origine.    |\n",
    "| **Fine Tuning (Affinage)**     | **Dégeler** certaines couches du modèle pré-entraîné et les ré-entraîner sur ton dataset spécifique. | Lorsque tu veux adapter partiellement un modèle pré-entraîné à ton dataset.             | - Adaptation plus fine au dataset<br>- Améliore souvent les performances. | - Nécessite plus de temps d'entraînement<br>- Risque de surajustement si peu de données.         |\n",
    "| **Full Fine-Tuning**           | **Dégeler toutes les couches** du modèle pré-entraîné et les ré-entraîner entièrement sur ton dataset. | Lorsque ton dataset est très différent du dataset d'origine du modèle pré-entraîné.     | - Flexibilité maximale pour adapter au dataset spécifique.           | - Très long à entraîner<br>- Nécessite beaucoup de données pour éviter le surapprentissage.                    |\n"
   ]
  },
  {
   "cell_type": "code",
   "execution_count": 149,
   "metadata": {},
   "outputs": [],
   "source": [
    "image_model = tf.keras.applications.InceptionV3(include_top=False, weights='imagenet')"
   ]
  },
  {
   "cell_type": "markdown",
   "metadata": {},
   "source": [
    "#### 4.1.2.A-Feature Extraction (Extraction des caractéristiques)\n",
    "\n",
    "![image.png](https://www.researchgate.net/publication/363695026/figure/fig3/AS:11431281085332127@1663720421792/Feature-Extraction-in-Transfer-Learning.png)"
   ]
  },
  {
   "cell_type": "markdown",
   "metadata": {},
   "source": [
    "Commencons par utiliser **InceptionV3**, nous allons extraire les caractéristiques (features) du modèle "
   ]
  },
  {
   "cell_type": "code",
   "execution_count": 150,
   "metadata": {},
   "outputs": [
    {
     "name": "stderr",
     "output_type": "stream",
     "text": [
      "Extraction des features d'image: 100%|██████████| 125/125 [01:02<00:00,  2.00it/s]\n"
     ]
    }
   ],
   "source": [
    "features_dir = 'extracted_features/'\n",
    "os.makedirs(features_dir, exist_ok=True)\n",
    "image_model.trainable = False  # Geler les couches du modèle\n",
    "\n",
    "new_input = tf.keras.Input(shape=(299, 299, 3))\n",
    "hidden_layer = image_model(new_input)\n",
    "image_features_extract_model = tf.keras.Model(inputs=new_input, outputs=hidden_layer)\n",
    "\n",
    "def load_image(image_path):\n",
    "    img = tf.io.read_file(image_path)\n",
    "    img = tf.image.decode_jpeg(img, channels=3)\n",
    "    img = tf.image.resize(img, [299, 299])\n",
    "    img = tf.keras.applications.inception_v3.preprocess_input(img)\n",
    "    return img, image_path\n",
    "\n",
    "# Pré-traitement des images\n",
    "encode_train = sorted(set(img_name_vector))\n",
    "image_dataset = tf.data.Dataset.from_tensor_slices(encode_train)\n",
    "image_dataset = image_dataset.map(load_image, num_parallel_calls=tf.data.AUTOTUNE).batch(16)\n",
    "\n",
    "# Extraction et sauvegarde des features d'image\n",
    "for img, path in tqdm(image_dataset, desc=\"Extraction des features d'image\"):\n",
    "    batch_features = image_features_extract_model(img)\n",
    "    batch_features = tf.reduce_mean(batch_features, axis=[1, 2])  # Global Average Pooling\n",
    "    \n",
    "    for bf, p in zip(batch_features, path):\n",
    "        path_of_feature = p.numpy().decode(\"utf-8\")\n",
    "        file_name = os.path.basename(path_of_feature)\n",
    "        save_path = os.path.join(features_dir, file_name + \"_extract_features.npy\")\n",
    "        np.save(save_path, bf.numpy())\n"
   ]
  },
  {
   "cell_type": "markdown",
   "metadata": {},
   "source": [
    "Après avoir chargé les annotations et les images du dataset MS COCO, nous avons extrait les **caractéristiques visuelles** d'une image en utilisant le modèle pré-entraîné **InceptionV3**.\n",
    "\n",
    "- Le message **\"Loading annotations into memory...\"** indique que les annotations du dataset ont été chargées et indexées, ce qui permet de manipuler les légendes et les images du dataset plus facilement.\n",
    "  \n",
    "- Ensuite, nous avons extrait les caractéristiques d'une image avec InceptionV3. Les **dimensions des caractéristiques extraites** sont **(1, 8, 8, 2048)** :\n",
    "  - **1** : Correspond à la taille du lot (ici, 1 image est traitée).\n",
    "  - **8x8** : Taille de la carte de caractéristiques générée par les couches convolutionnelles du modèle. Elle représente un résumé spatial de l'image.\n",
    "  - **2048** : Nombre de filtres ou de canaux. Chaque canal capture une caractéristique visuelle particulière (textures, formes, etc.).\n",
    "\n",
    "Ces caractéristiques seront ensuite utilisées comme entrée dans le modèle **LSTM** pour générer des légendes basées sur ces informations visuelles.\n"
   ]
  },
  {
   "cell_type": "markdown",
   "metadata": {},
   "source": [
    "### 4.1.2.B-fine tuning affinage\n",
    "\n",
    "![image.png](https://www.researchgate.net/profile/Esra-Alhadhrami/publication/326048343/figure/fig1/AS:643818495950849@1530509699224/Transfer-learning-approaches-a-Fine-tuning-b-CNN-as-feature-extractor.png)"
   ]
  },
  {
   "cell_type": "code",
   "execution_count": 46,
   "metadata": {},
   "outputs": [
    {
     "name": "stderr",
     "output_type": "stream",
     "text": [
      "100%|██████████| 125/125 [00:57<00:00,  2.17it/s]\n"
     ]
    }
   ],
   "source": [
    "# à completer"
   ]
  },
  {
   "cell_type": "markdown",
   "metadata": {},
   "source": [
    "### 4.1.2.C-Full Fine Tuning"
   ]
  },
  {
   "cell_type": "code",
   "execution_count": 47,
   "metadata": {},
   "outputs": [
    {
     "name": "stderr",
     "output_type": "stream",
     "text": [
      "100%|██████████| 125/125 [00:57<00:00,  2.18it/s]\n"
     ]
    }
   ],
   "source": [
    "# à completer"
   ]
  },
  {
   "cell_type": "markdown",
   "metadata": {},
   "source": [
    "### 4.1.3-Construction du modele RNN\n",
    "\n",
    "Les RNN (Réseaux de Neurones Récurents) sont particulièrement adaptés pour modéliser les données séquentielles, comme le langage naturel. Contrairement aux réseaux de neurones traditionnels, les RNN peuvent conserver une mémoire des états passés lors du traitement d'une séquence, ce qui est essentiel pour comprendre le contexte dans les tâches comme la génération de légendes d'images.\n",
    "\n",
    "Dans le cadre de ce projet, les RNN sont utilisés pour générer des légendes descriptives d'images, car ils peuvent modéliser les relations entre les mots d'une légende et apprendre comment une séquence de mots est structurée. En combinant cela avec les caractéristiques visuelles extraites des images via des techniques de transfert learning, le modèle peut comprendre à la fois l'information visuelle et textuelle.\n",
    "\n",
    "#### Comparatif des architectures RNN existantes\n",
    "\n",
    "| Architecture RNN | Description | Avantages | Inconvénients |\n",
    "|------------------|-------------|-----------|---------------|\n",
    "| **RNN simple**   | Le réseau récurrent classique, qui traite chaque élément d'une séquence un par un tout en conservant une mémoire de l'état précédent. | - Simple à implémenter.<br>- Moins de paramètres que LSTM ou GRU. | - **Problème de gradient qui disparaît**, surtout sur de longues séquences.<br>- Ne peut pas bien modéliser les longues dépendances. |\n",
    "| **LSTM (Long Short-Term Memory)** | Variante des RNN, avec des mécanismes de mémoire (cellules LSTM, portes d'entrée, d'oubli et de sortie) pour conserver l'information sur de longues séquences. | - Capable de capturer des **longues dépendances**.<br>- Gère mieux le problème de gradient qui disparaît. | - Plus complexe et plus lent à entraîner en raison du nombre élevé de paramètres.<br>- Plus coûteux en mémoire. |\n",
    "| **GRU (Gated Recurrent Unit)** | Variante simplifiée des LSTM, avec un mécanisme de **portes** (porte de mise à jour et porte de réinitialisation) pour contrôler le flux d'information. | - **Moins de paramètres** que LSTM, donc plus rapide et moins coûteux à entraîner.<br>- Performances comparables aux LSTM sur de nombreuses tâches. | - Moins flexible que LSTM pour capturer des dépendances complexes.<br>- Peut être moins performant que LSTM sur de très longues séquences. |\n",
    "| **Bi-RNN (RNN bidirectionnel)** | Les **RNN bidirectionnels** traitent une séquence dans les deux sens (avant et arrière), permettant au réseau de prendre en compte le contexte passé et futur. | - Peut mieux capturer le contexte global d'une séquence. | - Double le nombre de calculs.<br>- Plus complexe et coûteux en temps et en mémoire. |\n",
    "\n",
    "\n",
    "![image.png](https://aiml.com/wp-content/uploads/2023/10/rnn-lstm-gru-transformers.png)"
   ]
  },
  {
   "cell_type": "markdown",
   "metadata": {},
   "source": [
    "### 4.1.3.A Mécanisme d'attention"
   ]
  },
  {
   "cell_type": "code",
   "execution_count": 151,
   "metadata": {},
   "outputs": [],
   "source": [
    "class BahdanauAttention(tf.keras.Model):\n",
    "    def __init__(self, units):\n",
    "        super(BahdanauAttention, self).__init__()\n",
    "        self.W1 = tf.keras.layers.Dense(units)\n",
    "        self.W2 = tf.keras.layers.Dense(units)\n",
    "        self.V = tf.keras.layers.Dense(1)\n",
    "\n",
    "    def call(self, features, hidden):\n",
    "        hidden_with_time_axis = tf.expand_dims(hidden, 1)\n",
    "        attention_hidden_layer = tf.nn.tanh(self.W1(features) + self.W2(hidden_with_time_axis))\n",
    "        score = self.V(attention_hidden_layer)\n",
    "        attention_weights = tf.nn.softmax(score, axis=1)\n",
    "        context_vector = attention_weights * features\n",
    "        context_vector = tf.reduce_sum(context_vector, axis=1)\n",
    "        return context_vector, attention_weights\n"
   ]
  },
  {
   "cell_type": "markdown",
   "metadata": {},
   "source": [
    "### 4.1.3.A-Construction du modèle lstm\n",
    "\n",
    "![image.png](https://media.licdn.com/dms/image/v2/D5612AQH7ywLf6xH_rA/article-cover_image-shrink_720_1280/article-cover_image-shrink_720_1280/0/1690356194969?e=2147483647&v=beta&t=S-frcgtTyzrBWZ0K3K_GqK8dZ6OGA5oPtLzIRwRG74M)"
   ]
  },
  {
   "cell_type": "code",
   "execution_count": null,
   "metadata": {},
   "outputs": [],
   "source": [
    "# à completer"
   ]
  },
  {
   "cell_type": "markdown",
   "metadata": {},
   "source": [
    "### 4.1.3.B Construction du modèle GRU\n",
    "\n",
    "![image.png](https://www.researchgate.net/publication/350463426/figure/fig4/AS:1012181290201090@1618334233899/Structure-of-the-gated-recurrent-unit-GRU-recurrent-network.jpg)"
   ]
  },
  {
   "cell_type": "code",
   "execution_count": 153,
   "metadata": {},
   "outputs": [],
   "source": [
    "# Définition des paramètres\n",
    "embedding_dim = 256\n",
    "units = 512\n",
    "vocab_size = top_k + 1  # +1 pour le token <unk>\n",
    "feature_dim = 2048  # Après Global Average Pooling"
   ]
  },
  {
   "cell_type": "code",
   "execution_count": 154,
   "metadata": {},
   "outputs": [],
   "source": [
    "class RNN_Decoder(tf.keras.Model):\n",
    "    def __init__(self, embedding_dim, units, vocab_size):\n",
    "        super(RNN_Decoder, self).__init__()\n",
    "        self.units = units\n",
    "        self.embedding = tf.keras.layers.Embedding(vocab_size, embedding_dim)\n",
    "        self.gru = tf.keras.layers.GRU(self.units, return_sequences=True, return_state=True)\n",
    "        self.fc1 = tf.keras.layers.Dense(self.units)\n",
    "        self.fc2 = tf.keras.layers.Dense(vocab_size)\n",
    "        self.attention = BahdanauAttention(self.units)\n",
    "\n",
    "    def call(self, x, features, hidden):\n",
    "        context_vector, attention_weights = self.attention(features, hidden)\n",
    "        x = self.embedding(x)\n",
    "        x = tf.concat([tf.expand_dims(context_vector, 1), x], axis=-1)\n",
    "        output, state = self.gru(x)\n",
    "        x = self.fc1(output)\n",
    "        x = tf.reshape(x, (-1, x.shape[2]))\n",
    "        x = self.fc2(x)\n",
    "        return x, state, attention_weights\n",
    "\n",
    "    def reset_state(self, batch_size):\n",
    "        return tf.zeros((batch_size, self.units))\n"
   ]
  },
  {
   "cell_type": "code",
   "execution_count": 157,
   "metadata": {},
   "outputs": [
    {
     "data": {
      "text/html": [
       "<pre style=\"white-space:pre;overflow-x:auto;line-height:normal;font-family:Menlo,'DejaVu Sans Mono',consolas,'Courier New',monospace\"><span style=\"font-weight: bold\">Model: \"rnn__decoder_7\"</span>\n",
       "</pre>\n"
      ],
      "text/plain": [
       "\u001b[1mModel: \"rnn__decoder_7\"\u001b[0m\n"
      ]
     },
     "metadata": {},
     "output_type": "display_data"
    },
    {
     "data": {
      "text/html": [
       "<pre style=\"white-space:pre;overflow-x:auto;line-height:normal;font-family:Menlo,'DejaVu Sans Mono',consolas,'Courier New',monospace\">┏━━━━━━━━━━━━━━━━━━━━━━━━━━━━━━━━━┳━━━━━━━━━━━━━━━━━━━━━━━━┳━━━━━━━━━━━━━━━┓\n",
       "┃<span style=\"font-weight: bold\"> Layer (type)                    </span>┃<span style=\"font-weight: bold\"> Output Shape           </span>┃<span style=\"font-weight: bold\">       Param # </span>┃\n",
       "┡━━━━━━━━━━━━━━━━━━━━━━━━━━━━━━━━━╇━━━━━━━━━━━━━━━━━━━━━━━━╇━━━━━━━━━━━━━━━┩\n",
       "│ embedding_29 (<span style=\"color: #0087ff; text-decoration-color: #0087ff\">Embedding</span>)        │ ?                      │   <span style=\"color: #00af00; text-decoration-color: #00af00\">0</span> (unbuilt) │\n",
       "├─────────────────────────────────┼────────────────────────┼───────────────┤\n",
       "│ gru_28 (<span style=\"color: #0087ff; text-decoration-color: #0087ff\">GRU</span>)                    │ ?                      │   <span style=\"color: #00af00; text-decoration-color: #00af00\">0</span> (unbuilt) │\n",
       "├─────────────────────────────────┼────────────────────────┼───────────────┤\n",
       "│ dense_106 (<span style=\"color: #0087ff; text-decoration-color: #0087ff\">Dense</span>)               │ ?                      │   <span style=\"color: #00af00; text-decoration-color: #00af00\">0</span> (unbuilt) │\n",
       "├─────────────────────────────────┼────────────────────────┼───────────────┤\n",
       "│ dense_107 (<span style=\"color: #0087ff; text-decoration-color: #0087ff\">Dense</span>)               │ ?                      │   <span style=\"color: #00af00; text-decoration-color: #00af00\">0</span> (unbuilt) │\n",
       "├─────────────────────────────────┼────────────────────────┼───────────────┤\n",
       "│ bahdanau_attention_18           │ ?                      │   <span style=\"color: #00af00; text-decoration-color: #00af00\">0</span> (unbuilt) │\n",
       "│ (<span style=\"color: #0087ff; text-decoration-color: #0087ff\">BahdanauAttention</span>)             │                        │               │\n",
       "└─────────────────────────────────┴────────────────────────┴───────────────┘\n",
       "</pre>\n"
      ],
      "text/plain": [
       "┏━━━━━━━━━━━━━━━━━━━━━━━━━━━━━━━━━┳━━━━━━━━━━━━━━━━━━━━━━━━┳━━━━━━━━━━━━━━━┓\n",
       "┃\u001b[1m \u001b[0m\u001b[1mLayer (type)                   \u001b[0m\u001b[1m \u001b[0m┃\u001b[1m \u001b[0m\u001b[1mOutput Shape          \u001b[0m\u001b[1m \u001b[0m┃\u001b[1m \u001b[0m\u001b[1m      Param #\u001b[0m\u001b[1m \u001b[0m┃\n",
       "┡━━━━━━━━━━━━━━━━━━━━━━━━━━━━━━━━━╇━━━━━━━━━━━━━━━━━━━━━━━━╇━━━━━━━━━━━━━━━┩\n",
       "│ embedding_29 (\u001b[38;5;33mEmbedding\u001b[0m)        │ ?                      │   \u001b[38;5;34m0\u001b[0m (unbuilt) │\n",
       "├─────────────────────────────────┼────────────────────────┼───────────────┤\n",
       "│ gru_28 (\u001b[38;5;33mGRU\u001b[0m)                    │ ?                      │   \u001b[38;5;34m0\u001b[0m (unbuilt) │\n",
       "├─────────────────────────────────┼────────────────────────┼───────────────┤\n",
       "│ dense_106 (\u001b[38;5;33mDense\u001b[0m)               │ ?                      │   \u001b[38;5;34m0\u001b[0m (unbuilt) │\n",
       "├─────────────────────────────────┼────────────────────────┼───────────────┤\n",
       "│ dense_107 (\u001b[38;5;33mDense\u001b[0m)               │ ?                      │   \u001b[38;5;34m0\u001b[0m (unbuilt) │\n",
       "├─────────────────────────────────┼────────────────────────┼───────────────┤\n",
       "│ bahdanau_attention_18           │ ?                      │   \u001b[38;5;34m0\u001b[0m (unbuilt) │\n",
       "│ (\u001b[38;5;33mBahdanauAttention\u001b[0m)             │                        │               │\n",
       "└─────────────────────────────────┴────────────────────────┴───────────────┘\n"
      ]
     },
     "metadata": {},
     "output_type": "display_data"
    },
    {
     "data": {
      "text/html": [
       "<pre style=\"white-space:pre;overflow-x:auto;line-height:normal;font-family:Menlo,'DejaVu Sans Mono',consolas,'Courier New',monospace\"><span style=\"font-weight: bold\"> Total params: </span><span style=\"color: #00af00; text-decoration-color: #00af00\">0</span> (0.00 B)\n",
       "</pre>\n"
      ],
      "text/plain": [
       "\u001b[1m Total params: \u001b[0m\u001b[38;5;34m0\u001b[0m (0.00 B)\n"
      ]
     },
     "metadata": {},
     "output_type": "display_data"
    },
    {
     "data": {
      "text/html": [
       "<pre style=\"white-space:pre;overflow-x:auto;line-height:normal;font-family:Menlo,'DejaVu Sans Mono',consolas,'Courier New',monospace\"><span style=\"font-weight: bold\"> Trainable params: </span><span style=\"color: #00af00; text-decoration-color: #00af00\">0</span> (0.00 B)\n",
       "</pre>\n"
      ],
      "text/plain": [
       "\u001b[1m Trainable params: \u001b[0m\u001b[38;5;34m0\u001b[0m (0.00 B)\n"
      ]
     },
     "metadata": {},
     "output_type": "display_data"
    },
    {
     "data": {
      "text/html": [
       "<pre style=\"white-space:pre;overflow-x:auto;line-height:normal;font-family:Menlo,'DejaVu Sans Mono',consolas,'Courier New',monospace\"><span style=\"font-weight: bold\"> Non-trainable params: </span><span style=\"color: #00af00; text-decoration-color: #00af00\">0</span> (0.00 B)\n",
       "</pre>\n"
      ],
      "text/plain": [
       "\u001b[1m Non-trainable params: \u001b[0m\u001b[38;5;34m0\u001b[0m (0.00 B)\n"
      ]
     },
     "metadata": {},
     "output_type": "display_data"
    }
   ],
   "source": [
    "# Création du modèle de décodage\n",
    "caption_model = RNN_Decoder(embedding_dim, units, vocab_size)\n",
    "caption_model.compile(optimizer='adam', loss='sparse_categorical_crossentropy')\n",
    "caption_model.summary()\n",
    "\n"
   ]
  },
  {
   "cell_type": "markdown",
   "metadata": {},
   "source": [
    "# Préparation des datasets "
   ]
  },
  {
   "cell_type": "code",
   "execution_count": 158,
   "metadata": {},
   "outputs": [],
   "source": [
    "# --- Préparation des datasets ---\n",
    "def map_func(img_name, cap):\n",
    "    img_tensor = np.load(os.path.join(features_dir, os.path.basename(img_name.numpy().decode('utf-8')) + \"_extract_features.npy\"))\n",
    "    return img_tensor.astype(np.float32), cap\n",
    "\n",
    "def tf_map_func(img_name, cap):\n",
    "    img_tensor, cap = tf.py_function(map_func, [img_name, cap], [tf.float32, tf.int32])\n",
    "    img_tensor.set_shape((feature_dim,))\n",
    "    cap.set_shape((max_length,))\n",
    "    return img_tensor, cap\n",
    "\n",
    "train_dataset = tf.data.Dataset.from_tensor_slices((img_name_train, cap_train))\n",
    "train_dataset = train_dataset.map(tf_map_func, num_parallel_calls=tf.data.AUTOTUNE).shuffle(1000).batch(64).prefetch(tf.data.AUTOTUNE)\n",
    "\n",
    "val_dataset = tf.data.Dataset.from_tensor_slices((img_name_val, cap_val))\n",
    "val_dataset = val_dataset.map(tf_map_func, num_parallel_calls=tf.data.AUTOTUNE).batch(64).prefetch(tf.data.AUTOTUNE)\n"
   ]
  },
  {
   "cell_type": "markdown",
   "metadata": {},
   "source": [
    "### 4.1.4.Entraînement des modèle"
   ]
  },
  {
   "cell_type": "code",
   "execution_count": 128,
   "metadata": {},
   "outputs": [
    {
     "name": "stderr",
     "output_type": "stream",
     "text": [
      "Epoch 1/20: 100%|██████████| 126/126 [04:17<00:00,  2.04s/it]\n"
     ]
    },
    {
     "name": "stdout",
     "output_type": "stream",
     "text": [
      "Epoch 1/20, Loss: 2.0533, Time: 257.46 sec\n"
     ]
    },
    {
     "name": "stderr",
     "output_type": "stream",
     "text": [
      "Epoch 2/20: 100%|██████████| 126/126 [06:54<00:00,  3.29s/it]\n"
     ]
    },
    {
     "name": "stdout",
     "output_type": "stream",
     "text": [
      "Epoch 2/20, Loss: 1.5262, Time: 414.74 sec\n"
     ]
    },
    {
     "name": "stderr",
     "output_type": "stream",
     "text": [
      "Epoch 3/20: 100%|██████████| 126/126 [03:53<00:00,  1.85s/it]\n"
     ]
    },
    {
     "name": "stdout",
     "output_type": "stream",
     "text": [
      "Epoch 3/20, Loss: 1.4504, Time: 233.26 sec\n"
     ]
    },
    {
     "name": "stderr",
     "output_type": "stream",
     "text": [
      "Epoch 4/20: 100%|██████████| 126/126 [04:14<00:00,  2.02s/it]\n"
     ]
    },
    {
     "name": "stdout",
     "output_type": "stream",
     "text": [
      "Epoch 4/20, Loss: 1.3975, Time: 254.14 sec\n"
     ]
    },
    {
     "name": "stderr",
     "output_type": "stream",
     "text": [
      "Epoch 5/20:  61%|██████    | 77/126 [02:24<01:35,  1.95s/it]"
     ]
    }
   ],
   "source": [
    "# --- Boucle d'entraînement ---\n",
    "EPOCHS = 20\n",
    "loss_plot = []\n",
    "\n",
    "for epoch in range(EPOCHS):\n",
    "    start = time.time()\n",
    "    total_loss = 0\n",
    "    \n",
    "    for (batch, (img_tensor, target)) in enumerate(tqdm(train_dataset, desc=f\"Epoch {epoch+1}/{EPOCHS}\")):\n",
    "        loss = 0\n",
    "        with tf.GradientTape() as tape:\n",
    "            hidden = caption_model.reset_state(batch_size=target.shape[0])\n",
    "            dec_input = tf.expand_dims([tokenizer.word_index['start']] * target.shape[0], 1)\n",
    "            for i in range(1, target.shape[1]):\n",
    "                predictions, hidden, _ = caption_model(dec_input, img_tensor, hidden)\n",
    "                loss += tf.keras.losses.sparse_categorical_crossentropy(target[:, i], predictions, from_logits=True)\n",
    "                dec_input = tf.expand_dims(target[:, i], 1)\n",
    "\n",
    "            batch_loss = tf.reduce_mean(loss) / int(target.shape[1])\n",
    "        \n",
    "        gradients = tape.gradient(batch_loss, caption_model.trainable_variables)\n",
    "        caption_model.optimizer.apply_gradients(zip(gradients, caption_model.trainable_variables))\n",
    "        total_loss += batch_loss\n",
    "\n",
    "    avg_loss = total_loss / (batch + 1)\n",
    "    loss_plot.append(avg_loss)\n",
    "    \n",
    "    print(f'Epoch {epoch+1}/{EPOCHS}, Loss: {avg_loss:.4f}, Time: {time.time() - start:.2f} sec')\n"
   ]
  },
  {
   "cell_type": "code",
   "execution_count": null,
   "metadata": {},
   "outputs": [],
   "source": [
    "# --- Visualisation de la courbe de perte ---\n",
    "plt.plot(loss_plot)\n",
    "plt.xlabel('Epochs')\n",
    "plt.ylabel('Loss')\n",
    "plt.title('Training Loss')\n",
    "plt.show()\n"
   ]
  }
 ],
 "metadata": {
  "kernelspec": {
   "display_name": "data-science",
   "language": "python",
   "name": "python3"
  },
  "language_info": {
   "codemirror_mode": {
    "name": "ipython",
    "version": 3
   },
   "file_extension": ".py",
   "mimetype": "text/x-python",
   "name": "python",
   "nbconvert_exporter": "python",
   "pygments_lexer": "ipython3",
   "version": "3.11.0"
  }
 },
 "nbformat": 4,
 "nbformat_minor": 2
}
